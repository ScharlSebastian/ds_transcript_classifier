{
 "cells": [
  {
   "cell_type": "code",
   "execution_count": 7,
   "metadata": {},
   "outputs": [],
   "source": [
    "# import pandas as pd\n",
    "from pandas.io.clipboard import copy\n",
    "from youtube_transcript_api import YouTubeTranscriptApi\n",
    "\n",
    "def print_transcript_text(resp_list):\n",
    "\n",
    "    transcript_list = resp_list\n",
    "\n",
    "    duration_count = 0.0\n",
    "    \n",
    "    text_list_raw = []\n",
    "\n",
    "    for subtitle_info in transcript_list:\n",
    "        # starttime = subtitle_info[\"start\"]\n",
    "        duration = subtitle_info[\"duration\"]\n",
    "        subtitle_text = subtitle_info[\"text\"]\n",
    "\n",
    "        duration_count += duration\n",
    "        #print(subtitle_text[-1])\n",
    "        \n",
    "        text_list_raw.append(subtitle_text)\n",
    "        \n",
    "        if subtitle_text[-1] == \".\" and duration_count >= 30.0:\n",
    "            duration_count = 0.0\n",
    "            #print(\"\\n\")\n",
    "\n",
    "    text_list = ' '.join(text_list_raw)\n",
    "    text_list = text_list.replace(\". \",\".\\n\")\n",
    "    \n",
    "    return text_list\n",
    "\n",
    "\n",
    "def get_full_transcript_text(url):\n",
    "    \n",
    "    video_id = url.replace(\"https://youtu.be/\",\"\")\n",
    "    resp_list = YouTubeTranscriptApi.get_transcript(video_id)\n",
    "    text_result = print_transcript_text(resp_list)\n",
    "\n",
    "#     print(text_result)\n",
    "    copy(text_result)\n",
    "    \n",
    "    return text_result\n",
    "    \n",
    "\n",
    "def get_transcript_text_split(url):\n",
    "    \n",
    "    video_id = url.replace(\"https://youtu.be/\",\"\")\n",
    "    resp_list = YouTubeTranscriptApi.get_transcript(video_id)\n",
    "    text_result_full = print_transcript_text(resp_list)\n",
    "    text_result = \"\"\n",
    "    \n",
    "    if len(text_result_full) >= 4999:\n",
    "        last_dot = text_result_full[0:4900].rfind(\".\") + 1\n",
    "        text_result_1 = text_result_full[0:last_dot]\n",
    "        text_result_2 = text_result_full[last_dot:]\n",
    "        print(\"Length of Text is \" + str(len(text_result_full)) + \" long, its split in two parts\")\n",
    "        print(\"\\n\")\n",
    "#         print(text_result_1)\n",
    "#         print(\"\\n\")\n",
    "#         print(\"\\n\")\n",
    "#         print(text_result_2)\n",
    "        copy(text_result_1)\n",
    "        text_result = text_result_1 + \"\\n\" + \"\\n\" + text_result_2\n",
    "    else:\n",
    "        print(text_result_full)\n",
    "        copy(text_result_full)\n",
    "        text_result = text_result_full\n",
    "        \n",
    "    return text_result"
   ]
  },
  {
   "cell_type": "code",
   "execution_count": 8,
   "metadata": {},
   "outputs": [
    {
     "name": "stdout",
     "output_type": "stream",
     "text": [
      "In this lesson, we'll be training again to recognize numbers and photos of house addresses.\n",
      "This is the Street View House Numbers Dataset or SVHN.\n",
      "This includes data that's a bit more complex than MNIST.\n",
      "For example, the numbers are of different colors and in different settings.\n",
      "So, generating new realistic-looking house numbers will make for an interesting challenge.\n",
      "To get the best performance out of our model, we're going to use convolutional layers to make a deep convolutional GAN, usually called a DCGAN.\n",
      "A DCGAN will still have a generator and discriminator networks, only this time these networks we made of convolutional layers that are designed to work with spatial data.\n",
      "The discriminator will be a kind of convolutional neural network that aims to classify any image it sees as either real training image or a fake generated image, and the generator will be a transpose convolutional network that aims to upsample a latent vector z and generate realistic images that can fool the discriminator.\n",
      "These networks have opposing goals and they're pulling the error rate of the discriminator in different directions.\n",
      "As they train, they work against each other and both improve.\n",
      "Sort of like having an adversary in a basketball game, someone who challenges you and ideally pushes you to improve your game.\n",
      "So, in this lesson, I'll discuss the general structure of a DCGAN and some new strategies for improving the performance of a model, then I'll show you how to implement such a model in code, giving you exercises and instruction along the way.\n"
     ]
    }
   ],
   "source": [
    "url = \"https://youtu.be/s_ZdpYxPayM\"\n",
    "\n",
    "print(get_full_transcript_text(url))"
   ]
  },
  {
   "cell_type": "code",
   "execution_count": null,
   "metadata": {},
   "outputs": [],
   "source": []
  },
  {
   "cell_type": "code",
   "execution_count": null,
   "metadata": {},
   "outputs": [],
   "source": [
    "url = \"https://youtu.be/s_ZdpYxPayM\"\n",
    "\n",
    "print(get_transcript_text_split(url))"
   ]
  }
 ],
 "metadata": {
  "kernelspec": {
   "display_name": "Python 3",
   "language": "python",
   "name": "python3"
  },
  "language_info": {
   "codemirror_mode": {
    "name": "ipython",
    "version": 3
   },
   "file_extension": ".py",
   "mimetype": "text/x-python",
   "name": "python",
   "nbconvert_exporter": "python",
   "pygments_lexer": "ipython3",
   "version": "3.7.4"
  }
 },
 "nbformat": 4,
 "nbformat_minor": 2
}
