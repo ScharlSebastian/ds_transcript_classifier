{
 "cells": [
  {
   "cell_type": "code",
   "execution_count": 3,
   "metadata": {},
   "outputs": [],
   "source": [
    "# import pandas as pd\n",
    "from pandas.io.clipboard import copy\n",
    "from youtube_transcript_api import YouTubeTranscriptApi\n",
    "\n",
    "def print_transcript_text(resp_list):\n",
    "\n",
    "    transcript_list = resp_list\n",
    "\n",
    "    duration_count = 0.0\n",
    "    \n",
    "    text_list_raw = []\n",
    "\n",
    "    for subtitle_info in transcript_list:\n",
    "        # starttime = subtitle_info[\"start\"]\n",
    "        duration = subtitle_info[\"duration\"]\n",
    "        subtitle_text = subtitle_info[\"text\"]\n",
    "\n",
    "        duration_count += duration\n",
    "        #print(subtitle_text[-1])\n",
    "        \n",
    "        text_list_raw.append(subtitle_text)\n",
    "        \n",
    "        if subtitle_text[-1] == \".\" and duration_count >= 30.0:\n",
    "            duration_count = 0.0\n",
    "            #print(\"\\n\")\n",
    "\n",
    "    text_list = ' '.join(text_list_raw)\n",
    "    text_list = text_list.replace(\". \",\".\\n\")\n",
    "    \n",
    "    return text_list\n",
    "\n",
    "\n",
    "def get_full_transcript_text(url):\n",
    "    \n",
    "    video_id = url.replace(\"https://youtu.be/\",\"\")\n",
    "    resp_list = YouTubeTranscriptApi.get_transcript(video_id)\n",
    "    text_result = print_transcript_text(resp_list)\n",
    "\n",
    "#     print(text_result)\n",
    "    copy(text_result)\n",
    "    \n",
    "    return text_result\n",
    "    \n",
    "\n",
    "def get_transcript_text_split(url):\n",
    "    \n",
    "    if \"youtube.be\" in url:\n",
    "        video_id = url.replace(\"https://youtu.be/\",\"\")\n",
    "    elif \"/watch?v=\" in url:\n",
    "        video_id = url.replace(\"https://www.youtube.com/watch?v=\",\"\")\n",
    "    else:\n",
    "        video_id = url.replace(\"\",\"\")\n",
    "    resp_list = YouTubeTranscriptApi.get_transcript(video_id)\n",
    "    text_result_full = print_transcript_text(resp_list)\n",
    "    text_result = \"\"\n",
    "    \n",
    "    if len(text_result_full) >= 4999:\n",
    "        last_dot = text_result_full[0:4900].rfind(\".\") + 1\n",
    "        text_result_1 = text_result_full[0:last_dot]\n",
    "        text_result_2 = text_result_full[last_dot:]\n",
    "        print(\"Length of Text is \" + str(len(text_result_full)) + \" long, its split in two parts\")\n",
    "        print(\"\\n\")\n",
    "#         print(text_result_1)\n",
    "#         print(\"\\n\")\n",
    "#         print(\"\\n\")\n",
    "#         print(text_result_2)\n",
    "        copy(text_result_1)\n",
    "        text_result = text_result_1 + \"\\n\" + \"\\n\" + text_result_2\n",
    "    else:\n",
    "        print(text_result_full)\n",
    "        copy(text_result_full)\n",
    "        text_result = text_result_full\n",
    "        \n",
    "    return text_result"
   ]
  },
  {
   "cell_type": "code",
   "execution_count": 5,
   "metadata": {},
   "outputs": [
    {
     "ename": "TranscriptsDisabled",
     "evalue": "\nCould not retrieve a transcript for the video https://www.youtube.com/watch?v=https://www.youtube.com/watch?v=Q8Sq9r50gc0! This is most likely caused by:\n\nSubtitles are disabled for this video\n\nIf you are sure that the described cause is not responsible for this error and that a transcript should be retrievable, please create an issue at https://github.com/jdepoix/youtube-transcript-api/issues. Please add which version of youtube_transcript_api you are using and provide the information needed to replicate the error. Also make sure that there are no open issues which already describe your problem!",
     "output_type": "error",
     "traceback": [
      "\u001b[1;31m---------------------------------------------------------------------------\u001b[0m",
      "\u001b[1;31mTranscriptsDisabled\u001b[0m                       Traceback (most recent call last)",
      "\u001b[1;32m<ipython-input-5-ba482016c97a>\u001b[0m in \u001b[0;36m<module>\u001b[1;34m()\u001b[0m\n\u001b[0;32m      1\u001b[0m \u001b[0murl\u001b[0m \u001b[1;33m=\u001b[0m \u001b[1;34m\"https://www.youtube.com/watch?v=Q8Sq9r50gc0\"\u001b[0m\u001b[1;33m\u001b[0m\u001b[0m\n\u001b[0;32m      2\u001b[0m \u001b[1;33m\u001b[0m\u001b[0m\n\u001b[1;32m----> 3\u001b[1;33m \u001b[0mprint\u001b[0m\u001b[1;33m(\u001b[0m\u001b[0mget_full_transcript_text\u001b[0m\u001b[1;33m(\u001b[0m\u001b[0murl\u001b[0m\u001b[1;33m)\u001b[0m\u001b[1;33m)\u001b[0m\u001b[1;33m\u001b[0m\u001b[0m\n\u001b[0m",
      "\u001b[1;32m<ipython-input-3-6b65fe281e9f>\u001b[0m in \u001b[0;36mget_full_transcript_text\u001b[1;34m(url)\u001b[0m\n\u001b[0;32m     34\u001b[0m \u001b[1;33m\u001b[0m\u001b[0m\n\u001b[0;32m     35\u001b[0m     \u001b[0mvideo_id\u001b[0m \u001b[1;33m=\u001b[0m \u001b[0murl\u001b[0m\u001b[1;33m.\u001b[0m\u001b[0mreplace\u001b[0m\u001b[1;33m(\u001b[0m\u001b[1;34m\"https://youtu.be/\"\u001b[0m\u001b[1;33m,\u001b[0m\u001b[1;34m\"\"\u001b[0m\u001b[1;33m)\u001b[0m\u001b[1;33m\u001b[0m\u001b[0m\n\u001b[1;32m---> 36\u001b[1;33m     \u001b[0mresp_list\u001b[0m \u001b[1;33m=\u001b[0m \u001b[0mYouTubeTranscriptApi\u001b[0m\u001b[1;33m.\u001b[0m\u001b[0mget_transcript\u001b[0m\u001b[1;33m(\u001b[0m\u001b[0mvideo_id\u001b[0m\u001b[1;33m)\u001b[0m\u001b[1;33m\u001b[0m\u001b[0m\n\u001b[0m\u001b[0;32m     37\u001b[0m     \u001b[0mtext_result\u001b[0m \u001b[1;33m=\u001b[0m \u001b[0mprint_transcript_text\u001b[0m\u001b[1;33m(\u001b[0m\u001b[0mresp_list\u001b[0m\u001b[1;33m)\u001b[0m\u001b[1;33m\u001b[0m\u001b[0m\n\u001b[0;32m     38\u001b[0m \u001b[1;33m\u001b[0m\u001b[0m\n",
      "\u001b[1;32mC:\\Python\\Anaconda3\\lib\\site-packages\\youtube_transcript_api\\_api.py\u001b[0m in \u001b[0;36mget_transcript\u001b[1;34m(cls, video_id, languages, proxies, cookies)\u001b[0m\n\u001b[0;32m    126\u001b[0m         \u001b[1;33m:\u001b[0m\u001b[0mrtype\u001b[0m \u001b[1;33m[\u001b[0m\u001b[1;33m{\u001b[0m\u001b[1;34m'text'\u001b[0m\u001b[1;33m:\u001b[0m \u001b[0mstr\u001b[0m\u001b[1;33m,\u001b[0m \u001b[1;34m'start'\u001b[0m\u001b[1;33m:\u001b[0m \u001b[0mfloat\u001b[0m\u001b[1;33m,\u001b[0m \u001b[1;34m'end'\u001b[0m\u001b[1;33m:\u001b[0m \u001b[0mfloat\u001b[0m\u001b[1;33m}\u001b[0m\u001b[1;33m]\u001b[0m\u001b[1;33m:\u001b[0m\u001b[1;33m\u001b[0m\u001b[0m\n\u001b[0;32m    127\u001b[0m         \"\"\"\n\u001b[1;32m--> 128\u001b[1;33m         \u001b[1;32mreturn\u001b[0m \u001b[0mcls\u001b[0m\u001b[1;33m.\u001b[0m\u001b[0mlist_transcripts\u001b[0m\u001b[1;33m(\u001b[0m\u001b[0mvideo_id\u001b[0m\u001b[1;33m,\u001b[0m \u001b[0mproxies\u001b[0m\u001b[1;33m,\u001b[0m \u001b[0mcookies\u001b[0m\u001b[1;33m)\u001b[0m\u001b[1;33m.\u001b[0m\u001b[0mfind_transcript\u001b[0m\u001b[1;33m(\u001b[0m\u001b[0mlanguages\u001b[0m\u001b[1;33m)\u001b[0m\u001b[1;33m.\u001b[0m\u001b[0mfetch\u001b[0m\u001b[1;33m(\u001b[0m\u001b[1;33m)\u001b[0m\u001b[1;33m\u001b[0m\u001b[0m\n\u001b[0m\u001b[0;32m    129\u001b[0m \u001b[1;33m\u001b[0m\u001b[0m\n\u001b[0;32m    130\u001b[0m     \u001b[1;33m@\u001b[0m\u001b[0mclassmethod\u001b[0m\u001b[1;33m\u001b[0m\u001b[0m\n",
      "\u001b[1;32mC:\\Python\\Anaconda3\\lib\\site-packages\\youtube_transcript_api\\_api.py\u001b[0m in \u001b[0;36mlist_transcripts\u001b[1;34m(cls, video_id, proxies, cookies)\u001b[0m\n\u001b[0;32m     68\u001b[0m                 \u001b[0mhttp_client\u001b[0m\u001b[1;33m.\u001b[0m\u001b[0mcookies\u001b[0m \u001b[1;33m=\u001b[0m \u001b[0mcls\u001b[0m\u001b[1;33m.\u001b[0m\u001b[0m_load_cookies\u001b[0m\u001b[1;33m(\u001b[0m\u001b[0mcookies\u001b[0m\u001b[1;33m,\u001b[0m \u001b[0mvideo_id\u001b[0m\u001b[1;33m)\u001b[0m\u001b[1;33m\u001b[0m\u001b[0m\n\u001b[0;32m     69\u001b[0m             \u001b[0mhttp_client\u001b[0m\u001b[1;33m.\u001b[0m\u001b[0mproxies\u001b[0m \u001b[1;33m=\u001b[0m \u001b[0mproxies\u001b[0m \u001b[1;32mif\u001b[0m \u001b[0mproxies\u001b[0m \u001b[1;32melse\u001b[0m \u001b[1;33m{\u001b[0m\u001b[1;33m}\u001b[0m\u001b[1;33m\u001b[0m\u001b[0m\n\u001b[1;32m---> 70\u001b[1;33m             \u001b[1;32mreturn\u001b[0m \u001b[0mTranscriptListFetcher\u001b[0m\u001b[1;33m(\u001b[0m\u001b[0mhttp_client\u001b[0m\u001b[1;33m)\u001b[0m\u001b[1;33m.\u001b[0m\u001b[0mfetch\u001b[0m\u001b[1;33m(\u001b[0m\u001b[0mvideo_id\u001b[0m\u001b[1;33m)\u001b[0m\u001b[1;33m\u001b[0m\u001b[0m\n\u001b[0m\u001b[0;32m     71\u001b[0m \u001b[1;33m\u001b[0m\u001b[0m\n\u001b[0;32m     72\u001b[0m     \u001b[1;33m@\u001b[0m\u001b[0mclassmethod\u001b[0m\u001b[1;33m\u001b[0m\u001b[0m\n",
      "\u001b[1;32mC:\\Python\\Anaconda3\\lib\\site-packages\\youtube_transcript_api\\_transcripts.py\u001b[0m in \u001b[0;36mfetch\u001b[1;34m(self, video_id)\u001b[0m\n\u001b[0;32m     32\u001b[0m             \u001b[0mself\u001b[0m\u001b[1;33m.\u001b[0m\u001b[0m_http_client\u001b[0m\u001b[1;33m,\u001b[0m\u001b[1;33m\u001b[0m\u001b[0m\n\u001b[0;32m     33\u001b[0m             \u001b[0mvideo_id\u001b[0m\u001b[1;33m,\u001b[0m\u001b[1;33m\u001b[0m\u001b[0m\n\u001b[1;32m---> 34\u001b[1;33m             \u001b[0mself\u001b[0m\u001b[1;33m.\u001b[0m\u001b[0m_extract_captions_json\u001b[0m\u001b[1;33m(\u001b[0m\u001b[0mself\u001b[0m\u001b[1;33m.\u001b[0m\u001b[0m_fetch_html\u001b[0m\u001b[1;33m(\u001b[0m\u001b[0mvideo_id\u001b[0m\u001b[1;33m)\u001b[0m\u001b[1;33m,\u001b[0m \u001b[0mvideo_id\u001b[0m\u001b[1;33m)\u001b[0m\u001b[1;33m\u001b[0m\u001b[0m\n\u001b[0m\u001b[0;32m     35\u001b[0m         )\n\u001b[0;32m     36\u001b[0m \u001b[1;33m\u001b[0m\u001b[0m\n",
      "\u001b[1;32mC:\\Python\\Anaconda3\\lib\\site-packages\\youtube_transcript_api\\_transcripts.py\u001b[0m in \u001b[0;36m_extract_captions_json\u001b[1;34m(self, html, video_id)\u001b[0m\n\u001b[0;32m     42\u001b[0m                 \u001b[1;32mraise\u001b[0m \u001b[0mVideoUnavailable\u001b[0m\u001b[1;33m(\u001b[0m\u001b[0mvideo_id\u001b[0m\u001b[1;33m)\u001b[0m\u001b[1;33m\u001b[0m\u001b[0m\n\u001b[0;32m     43\u001b[0m \u001b[1;33m\u001b[0m\u001b[0m\n\u001b[1;32m---> 44\u001b[1;33m             \u001b[1;32mraise\u001b[0m \u001b[0mTranscriptsDisabled\u001b[0m\u001b[1;33m(\u001b[0m\u001b[0mvideo_id\u001b[0m\u001b[1;33m)\u001b[0m\u001b[1;33m\u001b[0m\u001b[0m\n\u001b[0m\u001b[0;32m     45\u001b[0m \u001b[1;33m\u001b[0m\u001b[0m\n\u001b[0;32m     46\u001b[0m         captions_json = json.loads(\n",
      "\u001b[1;31mTranscriptsDisabled\u001b[0m: \nCould not retrieve a transcript for the video https://www.youtube.com/watch?v=https://www.youtube.com/watch?v=Q8Sq9r50gc0! This is most likely caused by:\n\nSubtitles are disabled for this video\n\nIf you are sure that the described cause is not responsible for this error and that a transcript should be retrievable, please create an issue at https://github.com/jdepoix/youtube-transcript-api/issues. Please add which version of youtube_transcript_api you are using and provide the information needed to replicate the error. Also make sure that there are no open issues which already describe your problem!"
     ]
    }
   ],
   "source": [
    "url = \"https://www.youtube.com/watch?v=Q8Sq9r50gc0\"\n",
    "\n",
    "print(get_full_transcript_text(url))"
   ]
  },
  {
   "cell_type": "code",
   "execution_count": null,
   "metadata": {},
   "outputs": [],
   "source": []
  },
  {
   "cell_type": "code",
   "execution_count": null,
   "metadata": {},
   "outputs": [],
   "source": [
    "url = \"youtube-url\"\n",
    "\n",
    "print(get_transcript_text_split(url))"
   ]
  }
 ],
 "metadata": {
  "kernelspec": {
   "display_name": "Python 3",
   "language": "python",
   "name": "python3"
  },
  "language_info": {
   "codemirror_mode": {
    "name": "ipython",
    "version": 3
   },
   "file_extension": ".py",
   "mimetype": "text/x-python",
   "name": "python",
   "nbconvert_exporter": "python",
   "pygments_lexer": "ipython3",
   "version": "3.6.6"
  }
 },
 "nbformat": 4,
 "nbformat_minor": 2
}
